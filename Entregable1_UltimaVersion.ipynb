{
  "cells": [
    {
      "cell_type": "markdown",
      "metadata": {
        "id": "4wf7K4FACL8c"
      },
      "source": [
        "# Entregable1- IRN\n",
        "### Grupo 3\n",
        "### Integrantes:\n",
        "Diego Martín Vásquez Martínez"
      ]
    },
    {
      "cell_type": "markdown",
      "metadata": {
        "id": "QgvDDdrnvaGW"
      },
      "source": [
        "\n",
        "# Código de Generación de Dataset\n"
      ]
    },
    {
      "cell_type": "markdown",
      "metadata": {
        "id": "c00QBWpiqCWP"
      },
      "source": [
        "### Primera Parte:\n",
        "#### En esta parte se instalan e importan las libreías necesarias para el correcto funcionamiento del código, así como también se definen las rutas de archivos de interés."
      ]
    },
    {
      "cell_type": "code",
      "execution_count": null,
      "metadata": {
        "colab": {
          "base_uri": "https://localhost:8080/"
        },
        "id": "Osjl9kwyDFzN",
        "outputId": "383f72b5-d392-4f10-d859-72e6fe99ddc7"
      },
      "outputs": [],
      "source": [
        "pip install -r requirements.txt "
      ]
    },
    {
      "cell_type": "code",
      "execution_count": null,
      "metadata": {},
      "outputs": [],
      "source": [
        "pip install easyocr"
      ]
    },
    {
      "cell_type": "code",
      "execution_count": null,
      "metadata": {
        "colab": {
          "base_uri": "https://localhost:8080/",
          "height": 383
        },
        "id": "p3ve9Wj2E2Oc",
        "outputId": "b569ece0-7a46-43b9-8b6e-9a5238691249"
      },
      "outputs": [],
      "source": [
        "import cv2\n",
        "import os\n",
        "import easyocr\n",
        "from langchain import PromptTemplate\n",
        "from langchain.chat_models import ChatOpenAI\n",
        "from langchain.chains.summarize import load_summarize_chain\n",
        "from langchain.docstore.document import Document\n",
        "from langchain.text_splitter import RecursiveCharacterTextSplitter\n",
        "import subprocess\n",
        "from dotenv import load_dotenv, find_dotenv\n",
        "import PyPDF2\n",
        "import os\n",
        "from PIL import Image\n",
        "from difflib import get_close_matches\n",
        "rutaTexto=r\"DataTexto\"\n",
        "load_dotenv(find_dotenv(),override = True)\n"
      ]
    },
    {
      "cell_type": "markdown",
      "metadata": {
        "id": "bzcM5Ge5h7jp"
      },
      "source": [
        "Transformacion de archivos de PDF Y PNG a TXT"
      ]
    },
    {
      "cell_type": "markdown",
      "metadata": {
        "id": "6PRlbGW-rlko"
      },
      "source": [
        "### Segunda parte:\n",
        "#### Utilización de easyOCR y PyPDF2 para la transformación de archivos .PNG y .PDF a archivos .txt"
      ]
    },
    {
      "cell_type": "code",
      "execution_count": null,
      "metadata": {},
      "outputs": [],
      "source": [
        "def IMGtoText(ruta_img, caso_id):\n",
        "    reader= easyocr.Reader([\"es\"], gpu= False)\n",
        "    image=cv2.imread(ruta_img)\n",
        "    result= reader.readtext(image, paragraph= True)\n",
        "    texto_detectado = [resultado[1] for resultado in result]\n",
        "    texto_completo = ' '.join(texto_detectado)\n",
        "\n",
        "   #Definir la ruta y el nombre del archivo de texto resultante\n",
        "    carpeta, nombre_img = os.path.split(ruta_img)\n",
        "    nombre_txt = caso_id + \"_\" + os.path.splitext(nombre_img)[0] + \"_SEGUIMIENTO_EXPEDIENTE.txt\"\n",
        "    ruta_txt = os.path.join(carpeta, nombre_txt)\n",
        "    with open(ruta_txt, 'w') as archivo:\n",
        "         archivo.write(texto_completo)\n",
        "\n",
        "\n",
        "\n",
        "\n",
        "    \n",
        " "
      ]
    },
    {
      "cell_type": "code",
      "execution_count": null,
      "metadata": {
        "id": "r4PdAOHMh7jp"
      },
      "outputs": [],
      "source": [
        "#Convierte los archivos PDFs a texto.\n",
        "def PDFtoText(ruta_pdf,caso_id):\n",
        "    pdf= open(ruta_pdf,\"rb\")\n",
        "    reader= PyPDF2.PdfReader(pdf)\n",
        "    extract_info= \"\"\n",
        "    for num in range(len(reader.pages)):\n",
        "        info_page = reader._get_page(num)\n",
        "        extract_info= extract_info + info_page.extract_text()\n",
        "\n",
        "    #Crea la ruta del archivo donde se almacena el texto plano.\n",
        "    carpeta, nombre_pdf = os.path.split(ruta_pdf)\n",
        "    nombre_txt = caso_id +\"_\" + os.path.splitext(nombre_pdf)[0] + \".txt\"\n",
        "\n",
        "    ruta_txt = os.path.join(carpeta, nombre_txt)\n",
        "\n",
        "    if extract_info != \"\":\n",
        "        with open(ruta_txt, 'w') as archivo:\n",
        "            archivo.write(extract_info)"
      ]
    },
    {
      "cell_type": "code",
      "execution_count": null,
      "metadata": {
        "id": "lLwrl_X7h7jq"
      },
      "outputs": [],
      "source": [
        "def DeterminarID(string):\n",
        "    indice = 0\n",
        "    # Elimina los valores iniciales no numéricos del nombre, como 'exp', etc.\n",
        "    while indice < len(string) and not string[indice].isdigit():\n",
        "        indice += 1\n",
        "    string = string[indice:]\n",
        "    #Dado que el nombre del archivo incluye el estado, se puede obtener el estado de manera deterministica.\n",
        "    #Este estado deterministico será utilizado solamente para hallar la metrica accuracy\n",
        "    id_code, estado = string.rsplit('-', 1)\n",
        "    return id_code,estado"
      ]
    },
    {
      "cell_type": "code",
      "execution_count": null,
      "metadata": {
        "id": "soOpbV1Ih7jq"
      },
      "outputs": [],
      "source": [
        "def ProcesarCarpeta(rutaPrimaria, nombre_carpeta):\n",
        "    ruta_carpeta_completa = os.path.join(rutaPrimaria, nombre_carpeta)\n",
        "    lista_archivos = os.listdir(ruta_carpeta_completa)\n",
        "\n",
        "    for nombre_archivo in lista_archivos:\n",
        "        ruta_archivo = os.path.join(ruta_carpeta_completa, nombre_archivo)\n",
        "        caso_id, estado= DeterminarID(nombre_carpeta)\n",
        "        if ruta_archivo.lower().endswith('.pdf'):\n",
        "            try:\n",
        "                PDFtoText(ruta_archivo,caso_id)\n",
        "                print('Se convirtio PDF')\n",
        "            except Exception as e:\n",
        "                print(f\"Error al convertir el PDF: {e}\")\n",
        "\n",
        "        elif ruta_archivo.lower().endswith('.png'):\n",
        "            IMGtoText(ruta_archivo,caso_id)\n",
        "            print('Se convirtio Imagen')\n",
        "\n",
        "        else:\n",
        "            print(f\"{nombre_archivo} no es ni PDF ni imagen\")"
      ]
    },
    {
      "cell_type": "code",
      "execution_count": null,
      "metadata": {
        "id": "sgMxZvGyh7jq"
      },
      "outputs": [],
      "source": [
        "#En esta celda, se corren las funciones de manera adecuada para lograr obtener los archivos en texto plano\n",
        "rutaTexto= rutaTexto\n",
        "lista_carpeta = [nombre for nombre in os.listdir(rutaTexto) if os.path.isdir(os.path.join(rutaTexto, nombre))]\n",
        "for carpeta in lista_carpeta:\n",
        "    ruta = os.path.join(rutaTexto,carpeta)\n",
        "    lista_carpetas = os.listdir(ruta)\n",
        "    for nombre in lista_carpetas:\n",
        "        ProcesarCarpeta(ruta, nombre)\n",
        "        ruta_expediente= os.path.join(ruta,nombre)\n",
        "\n",
        "    # Imprimir\n",
        "    print(\"Lista de nombres de carpetas:\")\n",
        "    print(lista_carpetas)"
      ]
    },
    {
      "cell_type": "markdown",
      "metadata": {
        "id": "gWsdiO4ysd4f"
      },
      "source": [
        "### Tercera Parte:\n",
        "#### Se utilizan modelos de LLM, a los cuales se les darán los archivos y ciertos prompts, para obtener el overview y el estado del caso."
      ]
    },
    {
      "cell_type": "code",
      "execution_count": null,
      "metadata": {
        "id": "S969x-a8h7jq"
      },
      "outputs": [],
      "source": [
        "def ia(texto, humanInput):\n",
        "    llm  = ChatOpenAI(temperature=0, model_name='gpt-3.5-turbo')\n",
        "    docs = [Document(page_content=texto)]\n",
        "\n",
        "    template = humanInput + '''\n",
        "    del siguiente texto:\n",
        "    TEXTO:{text}.\n",
        "    '''\n",
        "    prompt = PromptTemplate(\n",
        "        input_variables=['text'],\n",
        "        template=template\n",
        "    )\n",
        "    chain = load_summarize_chain(\n",
        "        llm,\n",
        "        chain_type='stuff',\n",
        "        prompt=prompt,\n",
        "        verbose=False\n",
        "    )\n",
        "    resumen = chain.run(docs)\n",
        "    return resumen"
      ]
    },
    {
      "cell_type": "markdown",
      "metadata": {
        "id": "BZ_v3tPwh7jr"
      },
      "source": [
        "Ahora, se probaran distintos promts, ademas de distintas formas de introducir la data."
      ]
    },
    {
      "cell_type": "markdown",
      "metadata": {
        "id": "50UQWo6Kh7jr"
      },
      "source": [
        "El primer método de introducir la información es combinando toda la info en un solo string y dándosela de frente a la IA\n"
      ]
    },
    {
      "cell_type": "code",
      "execution_count": null,
      "metadata": {
        "id": "3mfVcpZMh7jr"
      },
      "outputs": [],
      "source": [
        "def IA1(rutaExpediente,resumenPrompt,estadoPrompt):\n",
        "    texto_ia= \"\"\n",
        "    for archivo in os.listdir(rutaExpediente):\n",
        "        if archivo.lower().endswith(\".txt\"):  # Asegúrate de que solo estés leyendo archivos .txt\n",
        "            ruta_archivo = os.path.join(rutaExpediente, archivo)\n",
        "            with open(ruta_archivo, 'r') as file:\n",
        "                contenido = file.read()\n",
        "                texto_ia += contenido  # Agregar el contenido de cada archivo a la variable de texto combinado\n",
        "\n",
        "# Imprimir o hacer cualquier operación que necesites con el texto combinado\n",
        "    overview = ia(texto_ia,resumenPrompt)\n",
        "    estado= ia(texto_ia,estadoPrompt)\n",
        "    print(\"OVERVIEW: \"+overview)\n",
        "    print(\"Estado: \"+ estado)\n",
        "    return overview, estado"
      ]
    },
    {
      "cell_type": "markdown",
      "metadata": {
        "id": "fRYARRA3h7jr"
      },
      "source": [
        "El segundo método es darle a la IA archivo por archivo, que saque un resumen por archivo y lo una formando una string, y finalmente sacar un resumen de dicha string unida"
      ]
    },
    {
      "cell_type": "code",
      "execution_count": null,
      "metadata": {
        "id": "jWB-okU-h7jr"
      },
      "outputs": [],
      "source": [
        "\n",
        "def IA2(rutaExpediente,resumenPrompt,estadoPrompt):\n",
        "\n",
        "    overview= \"\"\n",
        "    estado= \"\"\n",
        "    for archivo in os.listdir(rutaExpediente):\n",
        "        if archivo.lower().endswith(\".txt\"):  # Asegúrate de que solo estés leyendo archivos .txt\n",
        "            ruta_archivo = os.path.join(rutaExpediente, archivo)\n",
        "            with open(ruta_archivo, 'r') as file:\n",
        "                texto_ia = file.read()\n",
        "            overview= overview + ia(texto_ia,resumenPrompt)\n",
        "            estado= estado+ ia(texto_ia,estadoPrompt)\n",
        "\n",
        "\n",
        "    overview= ia(overview,resumenPrompt)\n",
        "    estado= ia(estado,estadoPrompt)\n",
        "    print(\"OVERVIEW: \"+overview)\n",
        "    print(\"Estado: \"+ estado)"
      ]
    },
    {
      "cell_type": "markdown",
      "metadata": {
        "id": "5m4o9MqIh7jr"
      },
      "source": [
        "El tercer método es un método regresivo, lo que hace es que cada resumen lo introduce nuevamente junto al siguiente archivo no resumido."
      ]
    },
    {
      "cell_type": "code",
      "execution_count": null,
      "metadata": {
        "id": "Tn5OGxIZLPia"
      },
      "outputs": [],
      "source": [
        "def IA3(rutaExpediente,resumenPrompt,estadoPrompt):\n",
        "\n",
        "    overview= \"\"\n",
        "    estado= \"\"\n",
        "    for archivo in os.listdir(rutaExpediente):\n",
        "        if archivo.lower().endswith(\".txt\"):  # Asegúrate de que solo estés leyendo archivos .txt\n",
        "            ruta_archivo = os.path.join(rutaExpediente, archivo)\n",
        "            with open(ruta_archivo, 'r') as file:\n",
        "                overview = overview + file.read()\n",
        "                estado= estado + file.read()\n",
        "            overview= ia(overview,resumenPrompt)\n",
        "            estado= ia(estado,estadoPrompt)\n",
        "\n",
        "    print(\"OVERVIEW: \"+overview)\n",
        "    print(\"Estado: \"+ estado)"
      ]
    },
    {
      "cell_type": "code",
      "execution_count": null,
      "metadata": {
        "id": "u386vWDPh7jr"
      },
      "outputs": [],
      "source": [
        "def Escritura(ruta,caso_id, overview, estado,estado_deterministico):\n",
        "    #Generamos la Ruta de la carpeta.\n",
        "    if not os.path.exists(ruta):\n",
        "        os.makedirs(ruta)\n",
        "    carpeta = \"Archivos_IA_\"+caso_id\n",
        "    ruta_carpeta = os.path.join(ruta, carpeta)\n",
        "    if not os.path.exists(ruta_carpeta):\n",
        "        os.makedirs(ruta_carpeta)\n",
        "\n",
        "    #Generamos la ruta de los archivos.\n",
        "    ruta_overview = os.path.join(ruta_carpeta,caso_id+ \"_overview.txt\")\n",
        "    ruta_estado = os.path.join(ruta_carpeta, caso_id+ \"_estado.txt\")\n",
        "    ruta_estado_deterministico = os.path.join(ruta_carpeta, caso_id+ \"_estado_deterministico.txt\")\n",
        "\n",
        "\n",
        "    #Crear los archivos\n",
        "    with open(ruta_overview, 'w') as archivo:\n",
        "        archivo.write(overview)\n",
        "    with open(ruta_estado, 'w') as archivo:\n",
        "        archivo.write(estado)\n",
        "    with open(ruta_estado_deterministico, 'w') as archivo:\n",
        "        archivo.write(estado_deterministico)\n",
        "    print(f\"___________________________________\")"
      ]
    },
    {
      "cell_type": "markdown",
      "metadata": {
        "id": "gOxl7WRpttl7"
      },
      "source": [
        "### Cuarta Parte:\n",
        "#### Esta parte nos permite ejecutar las funciones declaradas de manera adecuada, lo que generará el overview y el estado del caso a través de modelos de LLM, de esta manera se logra obtener los archivos pedidos en el apartado B. del entregable 1.\n",
        "#### En este caso, el método final escogido para introducirle data al modelo fue la funcion IA1, debido a que su tiempo de proceso fue muchísimo más corto que el resto de funciones.  "
      ]
    },
    {
      "cell_type": "code",
      "execution_count": null,
      "metadata": {
        "id": "iv64VsH8h7js"
      },
      "outputs": [],
      "source": [
        "rutaTexto = rutaTexto\n",
        "resumenPrompt= \"Eres un experto en Asesoría legal, el contexto proporcionado son documentos legales de los cuales harás un resumen detallando las personas implicadas, y que es lo que demanda o defiende cada uno.\"\n",
        "estadoPrompt= \"Eres un experto en Asesoría legal, el contexto proporcionado es una serie de documentos legales. Determina el estado del caso, sino puedes determinarlo responde en blanco o espacios, asegúrate que tu respuesta sea única y exclusivamente el estado del caso. Es decir, tu respuesta debe limitarse a: RECHAZADO, INADMISIBLE, EJECUCION, TRAMITE, PLAZO DE IMPUGNACION, CALIFICACION, ARCHIVO DEFINITIVO, ADMITIDA, ATENDIDO, SENTENCIADO, RESUELTO \"\n",
        "lista_carpetas= [carpeta for carpeta in os.listdir(rutaTexto) if os.path.isdir(os.path.join(rutaTexto, carpeta))]\n",
        "for carpeta in lista_carpetas:\n",
        "    ruta_carpeta= os.path.join(rutaTexto, carpeta)\n",
        "    lista_expedientes= [expediente for expediente in os.listdir(ruta_carpeta) if os.path.isdir(os.path.join(ruta_carpeta, expediente))]\n",
        "    for expediente in lista_expedientes:\n",
        "        ruta_expediente= os.path.join(ruta_carpeta, expediente)\n",
        "        caso_id, estado_deterministico = DeterminarID(expediente)\n",
        "        overview,estado = IA1(ruta_expediente,resumenPrompt,estadoPrompt)\n",
        "        Escritura(ruta_expediente,caso_id, overview, estado,estado_deterministico)\n",
        "        print(\"__________________________________________\")"
      ]
    },
    {
      "cell_type": "markdown",
      "metadata": {},
      "source": [
        "# Expermimentación y documentación \n",
        "## Para la experimentación y documentación, se procesarán algunos casos (los cuales han sido escogidos aleatoriamente) y se compararán los resultados y el tiempo en el que se han obtenido. Se usarán las distintas funciones y diferentes prompts. "
      ]
    },
    {
      "cell_type": "markdown",
      "metadata": {},
      "source": [
        "## Experimentacion utilizando la funcion IA1():"
      ]
    },
    {
      "cell_type": "markdown",
      "metadata": {},
      "source": [
        "\n",
        "### PROMPTS:\n",
        "resumenPrompt= \"Haz un resumen porfavor\"\n",
        "estadoPrompt= \"Determina el estado del caso porfavor\"\n",
        "\n",
        "### Resultados: \n",
        "OVERVIEW: La demandante, Johana Paola Gomez Lescano, presenta una demanda de filiación judicial de paternidad extramatrimonial contra Luis Alberto Valladolid Camacho. Solicita que el demandado reconozca a su hijo Dayron Jesús Valladolid Gomez y que se le ordene pagar una pensión de alimentos mensual y adelantada de S/. 1,000.00 soles. También solicita una medida de asignación anticipada de alimentos. La demandante fundamenta su demanda en el hecho de que el demandado se ha negado a reconocer a su hijo y en la necesidad de su hijo de recibir alimentos y cuidados. Presenta como pruebas la partida de nacimiento del menor y el documento nacional de identidad del menor. La demandante solicita que se admita la demanda y se declare fundada en todos sus extremos.\n",
        "Estado: El estado del caso es que la demanda ha sido admitida y se ha emitido una resolución para notificar al demandado.\n",
        "Se han creado el archivos en texto plano.\n",
        "OVERVIEW: El texto menciona que se trata de un seguimiento de expediente en el Poder Judicial del Perú, específicamente en la Corte Superior de Justicia de Piura, en la sede de Chipe. El expediente tiene el número 00201-2022-0-2001-JP-FC-07 y pertenece al Juzgado de Paz Letrado de Chipe. La fecha de inicio del proceso es el 3 de febrero de 2022 a las 22:38:38. El motivo de la demanda no se especifica en el resumen. El juez encargado del caso es Elías Lequernaque Carmen Irina Ocaña Malpartida Juan Manuel. El proceso se refiere a la materia de alimentos y se encuentra en estado de incidente. La ubicación actual del expediente no se menciona. Se interpone una demanda de alimentos adjuntando elementos de prueba. Los sujetos procesales son el demandado natural Noe Cruz Chinchay y la demandante natural Magaly del Milagro Cruz Flores.\n",
        "Estado: No es posible determinar el estado del caso con la información proporcionada.\n",
        "Se han creado el archivos en texto plano.\n",
        "OVERVIEW: El texto es una demanda de alimentos presentada por María del Socorro Saucedo Saavedra ante el Juzgado de Paz Letrado de Piura. En la demanda, María del Socorro solicita una pensión alimenticia de S/ 500.00 mensuales para su hijo Xiana Nairobi Vinces Saucedo, de 2 años de edad, a ser pagada por Eswin Jossimar Vinces Olaya, quien es el padre del menor. María del Socorro argumenta que Eswin ha incumplido con sus obligaciones como padre alimentista y que tiene la capacidad económica para contribuir con los gastos del niño. La demanda se fundamenta en el Código Civil y en el Código de Niños y Adolescentes. Se solicita que la demanda sea declarada fundada. El texto también incluye la designación de un abogado para representar a María del Socorro en el proceso.\n",
        "Estado: El estado del caso es que la demanda de alimentos presentada por María del Socorro Saucedo Saavedra ha sido rechazada.\n",
        "Se han creado el archivos en texto plano.\n",
        "\n",
        "### Tiempo: 1m 8.4s (1 caso analizado)"
      ]
    },
    {
      "cell_type": "markdown",
      "metadata": {},
      "source": [
        "\n",
        "### PROMPTS:\n",
        "resumenPrompt= \"Eres un experto en Asesoría legal, el contexto proporcionado es una serie de documentos legales de los cuales harás un resumen detallando lo más importante.\"\n",
        "estadoPrompt= \"Eres un experto en Asesoría legal, el contexto proporcionado es una serie de documentos legales. Determina el estado del caso y asegúrate que tu respuesta sea únicamente el estado del caso.\"\n",
        "\n",
        "### Resultados:\n",
        "OVERVIEW: La demandante, Johana Paola Gomez Lescano, presenta una demanda de filiación judicial de paternidad extramatrimonial en representación de su hijo Dayron Jesús Valladolid Gomez. El demandado es Luis Alberto Valladolid Camacho, con domicilio en el Distrito de Tumán, Provincia de Chiclayo y Departamento de Lambayeque.\n",
        "\n",
        "La demandante solicita que se declare la filiación extramatrimonial del demandado con su hijo y como consecuencia, se ordene al demandado reconocer al menor y pagar una pensión de alimentos mensual y adelantada de S/. 1,000.00 soles, así como una medida de asignación anticipada de alimentos.\n",
        "\n",
        "La demandante fundamenta su demanda en el hecho de que el demandado se ha negado a reconocer a su hijo, a pesar de los constantes pedidos de la demandante. La demandante ha inscrito al menor en el Registro Civil con los nombres y apellidos del demandado, pero este no ha realizado el reconocimiento de manera espontánea. La demandante también argumenta que el demandado tiene la capacidad económica para cumplir con la pensión de alimentos solicitada.\n",
        "\n",
        "La demandante presenta como medios probatorios la partida de nacimiento del menor y el documento nacional de identidad del menor.\n",
        "\n",
        "En cuanto a la competencia, se señala que el Juez de Paz Letrado es competente según la Ley 28457, que regula el proceso de filiación de paternidad extramatrimonial.\n",
        "\n",
        "En cuanto al monto del petitorio, se solicita una pensión de alimentos mensual y adelantada de S/. 1,000.00 soles.\n",
        "\n",
        "Se adjuntan como anexos el DNI de la\n",
        "Estado: El estado del caso es que la demanda de filiación judicial de paternidad extramatrimonial ha sido admitida a trámite por el Juez de Paz Letrado de Familia de Piura. El demandante, Johana Paola Gomez Lescano, ha presentado la demanda en representación de su menor hijo Dayron Jesús Valladolid Gomez. El demandado, Luis Alberto Valladolid Camacho, ha sido notificado de la demanda y se le ha otorgado un plazo para presentar su descargo. El caso se encuentra en proceso y aún no se ha emitido una resolución definitiva.\n",
        "Se han creado el archivos en texto plano.\n",
        "__________________________________________\n",
        "OVERVIEW: Resumen:\n",
        "\n",
        "El documento es un seguimiento de un expediente judicial en el Juzgado de Paz Letrado de la Sede de Chipe en el Poder Judicial del Perú. El expediente tiene el número 00201-2022-0-2001-JP-FC-07 y se inició el 3 de febrero de 2022 a las 22:38:38. El motivo de la demanda es por alimentos.\n",
        "\n",
        "El juez a cargo del caso es Elías Lequernaque Carmen Irina Ocaña Malpartida. El demandante es Juan Manuel Cruz Chinchay y el demandado es Magaly del Milagro Cruz Flores.\n",
        "\n",
        "El documento menciona que se adjuntan elementos de prueba y que el proceso se encuentra en estado de incidente. No se proporciona información adicional sobre la resolución o el resultado del caso.\n",
        "\n",
        "La ubicación del expediente es en la Sede de Chipe y la suma del archivo modular es de 5209.31 páginas.\n",
        "Estado: El estado del caso es que se ha interpuesto una demanda de alimentos por parte de Noe Cruz Chinchay contra Magaly del Milagro Cruz Flores.\n",
        "Se han creado el archivos en texto plano.\n",
        "\n",
        "### Tiempo: 1m 22s (2 casos analizados)"
      ]
    },
    {
      "cell_type": "markdown",
      "metadata": {},
      "source": [
        "### PROMPTS:\n",
        "resumenPrompt= \"Eres un experto en Asesoría legal, el contexto proporcionado son documentos legales de los cuales harás un resumen detallando las personas implicadas, y que es lo que demanda o defiende cada uno.\"\n",
        "estadoPrompt= \"Eres un experto en Asesoría legal, el contexto proporcionado es una serie de documentos legales. Determina el estado del caso, asegúrate que tu respuesta sea única y exclusivamente el estado del caso. Es decir, tu respuesta debe limitarse a: RECHAZADO, INADMISIBLE, EJECUCION, TRAMITE, PLAZO DE IMPUGNACION, CALIFICACION, ARCHIVO DEFINITIVO, ADMITIDA, ATENDIDO, SENTENCIADO, RESUELTO \"\n",
        "\n",
        "### Resultados:\n",
        "OVERVIEW: En el presente caso, Johana Paola Gómez Lescano, identificada con DNI Nro. 46626297, demanda la filiación judicial de paternidad extramatrimonial de su hijo Dayron Jesús Valladolid Gómez, de tres meses de edad. El demandado es Luis Alberto Valladolid Camacho, con domicilio en Calle Cruz del Calvario N 1585 del Distrito de Tumán, Provincia de Chiclayo y Departamento de Lambayeque.\n",
        "\n",
        "La demandante solicita que el demandado reconozca a su hijo y que se le ordene el pago de una pensión de alimentos mensual y adelantada de S/. 1,000.00 soles, así como una medida de asignación anticipada de alimentos.\n",
        "\n",
        "En cuanto a los fundamentos de hecho, la demandante señala que pese a sus constantes pedidos, el demandado se ha negado a reconocer a su hijo. Por ello, inscribió al menor en el Registro Civil con los nombres y apellidos del demandado. Además, argumenta que su hijo tiene necesidades especiales de alimentación, atención médica y educación, y que ella no cuenta con los recursos económicos suficientes para cubrir todos los gastos.\n",
        "\n",
        "En cuanto a los fundamentos de derecho, la demandante se ampara en la Ley 28457, Ley que regula el proceso de filiación de paternidad extramatrimonial, y en el artículo 92 del Código de los Niños y Adolescentes. También menciona los artículos 472, 474, 481 y 487 del Código Civil.\n",
        "\n",
        "Como medios probatorios, la demandante presenta la partida de\n",
        "Estado: TRAMITE\n",
        "__________________________________________\n",
        "OVERVIEW: En el texto proporcionado, se identifican las siguientes personas implicadas:\n",
        "\n",
        "- Demandante: Carmen Irina Ocaña Malpartida\n",
        "- Demandado: Juan Manuel Principal Sentenciado/Resuelto\n",
        "- Demandante Natural: Cruz Chinchay, Noe Cruz Flores, Magaly del Milagro\n",
        "\n",
        "La demanda presentada es de alimentos, y se adjuntan elementos de prueba. No se especifica cuál es la demanda o defensa de cada una de las partes implicadas.\n",
        "Estado: TRAMITE\n",
        "__________________________________________\n",
        "\n",
        "### Tiempo: 56.7s (2 casos analizados)"
      ]
    },
    {
      "cell_type": "markdown",
      "metadata": {},
      "source": [
        "## Experimentacion utilizando la funcion IA2():"
      ]
    },
    {
      "cell_type": "markdown",
      "metadata": {},
      "source": [
        "### PROMPTS:\n",
        "resumenPrompt= \"Eres un experto en Asesoría legal, el contexto proporcionado son documentos legales de los cuales harás un resumen detallando las personas implicadas, y que es lo que demanda o defiende cada uno.\"\n",
        "estadoPrompt= \"Eres un experto en Asesoría legal, el contexto proporcionado es una serie de documentos legales. Determina el estado del caso, sino puedes determinarlo responde en blanco o espacios, asegúrate que tu respuesta sea única y exclusivamente el estado del caso. Es decir, tu respuesta debe limitarse a: RECHAZADO, INADMISIBLE, EJECUCION, TRAMITE, PLAZO DE IMPUGNACION, CALIFICACION, ARCHIVO DEFINITIVO, ADMITIDA, ATENDIDO, SENTENCIADO, RESUELTO \"\n",
        "\n",
        "### Resultados: \n",
        "OVERVIEW: En el texto proporcionado se presenta una demanda de filiación judicial de paternidad extramatrimonial. La demandante principal es Reyes Criollo Kaala Soledad, quien actúa en representación de su hijo. La demanda se dirige contra Luis Alberto Valladolid Camacho. El motivo de la demanda es la filiación y alimentos.\n",
        "\n",
        "La demandante solicita que el demandado reconozca a su hijo como pretensión principal. Además, solicita que se ordene al demandado pagar una pensión de alimentos mensual y adelantada, así como una medida de asignación anticipada de alimentos.\n",
        "\n",
        "La demandante fundamenta su demanda en la Ley 28457, Ley que regula el proceso de filiación de paternidad extramatrimonial, así como en el artículo 92 del Código de los Niños y Adolescentes y en diversos artículos del Código Civil.\n",
        "\n",
        "Como medios probatorios, la demandante presenta la partida de nacimiento del menor y su documento nacional de identidad, entre otros documentos.\n",
        "\n",
        "En resumen, la demandante busca que se declare la filiación extramatrimonial del demandado con su hijo y que se le ordene pagar una pensión de alimentos mensual y adelantada. También solicita una medida de asignación anticipada de alimentos.\n",
        "Estado: TRAMITE\n",
        "\n",
        "### Tiempo: 1m 48.7s (1 caso)"
      ]
    },
    {
      "cell_type": "markdown",
      "metadata": {},
      "source": [
        "## Experimentacion utilizando la funcion IA3():"
      ]
    },
    {
      "cell_type": "markdown",
      "metadata": {},
      "source": [
        "### PROMPTS:\n",
        "resumenPrompt= \"Eres un experto en Asesoría legal, el contexto proporcionado son documentos legales de los cuales harás un resumen detallando las personas implicadas, y que es lo que demanda o defiende cada uno.\"\n",
        "estadoPrompt= \"Eres un experto en Asesoría legal, el contexto proporcionado es una serie de documentos legales. Determina el estado del caso, sino puedes determinarlo responde en blanco o espacios, asegúrate que tu respuesta sea única y exclusivamente el estado del caso. Es decir, tu respuesta debe limitarse a: RECHAZADO, INADMISIBLE, EJECUCION, TRAMITE, PLAZO DE IMPUGNACION, CALIFICACION, ARCHIVO DEFINITIVO, ADMITIDA, ATENDIDO, SENTENCIADO, RESUELTO \"\n",
        "\n",
        "### Resultados: \n",
        "\n",
        "OVERVIEW: En el expediente presentado, Johana Paola Gómez Lescano demanda la filiación judicial de paternidad extramatrimonial de su hijo Dayron Jesús Valladolid Gómez, de tres meses de edad. El demandado es Luis Alberto Valladolid Camacho.\n",
        "\n",
        "La demandante solicita que el demandado reconozca a su hijo y que se le ordene pagar una pensión de alimentos mensual y adelantada de S/. 1,000.00 soles, así como una medida de asignación anticipada de alimentos en la misma cantidad.\n",
        "\n",
        "La demandante fundamenta su demanda en el hecho de que el demandado se ha negado a reconocer a su hijo a pesar de los constantes pedidos, y ha inscrito al niño en el Registro Civil sin su consentimiento. Además, argumenta que su hijo tiene necesidades especiales de alimentación y cuidado, y que ella no cuenta con los recursos económicos suficientes para cubrir todos los gastos.\n",
        "\n",
        "La demandante también menciona que el demandado tiene capacidad económica para cumplir con la pensión de alimentos y que las labores domésticas que realiza también constituyen un aporte económico.\n",
        "\n",
        "En cuanto a la competencia, la demandante señala que el Juez de Paz Letrado es competente según la Ley 28457, que regula el proceso de filiación de paternidad extramatrimonial.\n",
        "\n",
        "Como medios probatorios, la demandante presenta la partida de nacimiento del menor y su documento nacional de identidad, y solicita que se admita la demanda y se declare fundada en todos sus extremos.\n",
        "\n",
        "Estado: En blanco.\n",
        "\n",
        "### Tiempo: 1m 28.0s (1 caso)"
      ]
    },
    {
      "cell_type": "markdown",
      "metadata": {
        "id": "VQFKbwZ_vKlx"
      },
      "source": [
        "# Código de Limpieza de Data\n",
        "\n",
        "##### El principal problema en la data, es que hay varios archivos PDF que contienen solamente imagenes, o que son escaneos de documentos en físico. Esto genera que el Código de Generación de Dataset genere archivos tipo .txt totalmente en blanco o en los cuales la mayoría de caracteres son espacios, lo que es indeseable.\n",
        "Por este motivo se ha realizado el codigo de limpieza, que elimina aquellos archivos cuya longitud sea 0, o si al menos el 50% de sus caracteres son espacios."
      ]
    },
    {
      "cell_type": "code",
      "execution_count": null,
      "metadata": {
        "id": "vpf-hm-mwtqQ"
      },
      "outputs": [],
      "source": [
        "rutaTexto= rutaTexto\n",
        "\n",
        "lista_carpetas = [nombre for nombre in os.listdir(rutaTexto) if os.path.isdir(os.path.join(rutaTexto, nombre))]\n",
        "\n",
        "for carpeta in lista_carpetas:\n",
        "    ruta_carpeta=  os.path.join(rutaTexto,carpeta)\n",
        "    lista_expedientes= [carpeta for carpeta in os.listdir(ruta_carpeta) if os.path.isdir(os.path.join(ruta_carpeta, carpeta))]\n",
        "\n",
        "    for expediente in lista_expedientes:\n",
        "         ruta_expediente = os.path.join(ruta_carpeta,expediente)\n",
        "         lista_archivos= [nombre for nombre in os.listdir(ruta_expediente)]\n",
        "\n",
        "         for archivo in lista_archivos:\n",
        "              ruta_archivo = os.path.join(ruta_expediente,archivo)\n",
        "              if (ruta_archivo.lower().endswith('.txt')):\n",
        "                with open(ruta_archivo) as archivo:\n",
        "                            contenido = archivo.read()\n",
        "                espacios = sum(1 for c in contenido if c.isspace())\n",
        "                if len(contenido) == 0:\n",
        "                    os.remove(ruta_archivo)\n",
        "                elif (espacios / len(contenido) )>= 0.5 :\n",
        "                    os.remove(ruta_archivo)\n",
        "\n",
        "\n",
        "\n"
      ]
    },
    {
      "cell_type": "markdown",
      "metadata": {
        "id": "klEelttwHwgu"
      },
      "source": [
        "# Código de Métrica Accuracy"
      ]
    },
    {
      "cell_type": "code",
      "execution_count": null,
      "metadata": {
        "id": "MbV2k4QbH6FO"
      },
      "outputs": [],
      "source": [
        "rutaTexto= rutaTexto\n",
        "\n",
        "lista_carpetas = [nombre for nombre in os.listdir(rutaTexto) if os.path.isdir(os.path.join(rutaTexto, nombre))]\n",
        "lista_estados= []\n",
        "lista_estados_deterministicos=[]\n",
        "\n",
        "for carpeta in lista_carpetas:\n",
        "    ruta_carpeta=  os.path.join(rutaTexto,carpeta)\n",
        "    lista_expedientes= [carpeta for carpeta in os.listdir(ruta_carpeta) if os.path.isdir(os.path.join(ruta_carpeta, carpeta))]\n",
        "\n",
        "    for expediente in lista_expedientes:\n",
        "         ruta_expediente = os.path.join(ruta_carpeta,expediente)\n",
        "         lista_IA= [nombre for nombre in os.listdir(ruta_expediente) if os.path.isdir(os.path.join(ruta_expediente, nombre))]\n",
        "\n",
        "         for nombre in lista_IA:\n",
        "            ruta_IA=  os.path.join(ruta_expediente,nombre)\n",
        "            lista_final = [nombre for nombre in os.listdir(ruta_IA) ]\n",
        "\n",
        "            for nombre in lista_final:\n",
        "                 ruta_final = os.path.join(ruta_IA,nombre)\n",
        "\n",
        "\n",
        "                 if ruta_final.lower().endswith('estado.txt'):\n",
        "                    with open(ruta_final, \"r\") as archivo:\n",
        "                            estado= archivo.read()\n",
        "                    lista_estados.append(estado)\n",
        "                 elif ruta_final.lower().endswith('estado_deterministico.txt'):\n",
        "                    with open(ruta_final, \"r\") as archivo:\n",
        "                            estado_deterministico= archivo.read()\n",
        "                    lista_estados_deterministicos.append(estado_deterministico)\n",
        "print(lista_estados)\n",
        "print(lista_estados_deterministicos)"
      ]
    },
    {
      "cell_type": "code",
      "execution_count": null,
      "metadata": {
        "id": "GYBlUb2CaSgN"
      },
      "outputs": [],
      "source": [
        "#Esta funcion es para corregir los casos deterministicos en caso haya un error de tipeo, se utiliza una lista con todos los estados posibles del caso\n",
        "def corregir_estado(estado, estados_validos):\n",
        "    matches = get_close_matches(estado, estados_validos)\n",
        "    if matches:\n",
        "        return matches[0]\n",
        "    else:\n",
        "        return estado\n",
        "\n",
        "estados_validos = [\n",
        "    \"RECHAZADO\",\n",
        "    \"INADMISIBLE\",\n",
        "    \"EJECUCION\",\n",
        "    \"TRAMITE\",\n",
        "    \"PLAZO DE IMPUGNACION\",\n",
        "    \"CALIFICACION\",\n",
        "    \"ARCHIVO DEFINITIVO\",\n",
        "    \"ADMITIDA\",\n",
        "    \"ATENDIDO\",\n",
        "    \"SENTENCIADO\",\n",
        "    \"RESUELTO\"\n",
        "]\n",
        "estados_deterministicos_corregidos = [corregir_estado(estado, estados_validos) for estado in lista_estados_deterministicos]\n",
        "print(estados_deterministicos_corregidos)\n",
        "#Ojo: resuelto atendido y sentenciado es el mismo estado, pero con diferente designacion."
      ]
    },
    {
      "cell_type": "code",
      "execution_count": null,
      "metadata": {
        "id": "p9O3yAoTam8u"
      },
      "outputs": [],
      "source": [
        "#Esta funcion es para extraer solo el estado de toda la respuesta predicha por la IA, para versiones posteriores se considera utilizar esta funcion para generar el archivo de texto\n",
        "#En este caso no se utiliza, porque falta informacion acerca de TODOS los estados posibles existentes.\n",
        "def extraer_estado(cadena, estados_validos):\n",
        "    for estado in estados_validos:\n",
        "        if estado.lower()[:-1] in cadena.lower():\n",
        "            return estado\n",
        "    return cadena\n",
        "\n",
        "# Generar la lista de estados predichos2\n",
        "estados_predichos = [extraer_estado(estado, estados_validos) for estado in lista_estados]\n",
        "print(estados_predichos)"
      ]
    },
    {
      "cell_type": "code",
      "execution_count": null,
      "metadata": {
        "id": "e77sAu98a9qn"
      },
      "outputs": [],
      "source": [
        "#Ahora, ya con los estados extraidos y corregidos, cambiamos normalizamos los elementos resueltos, atendidos y sentenciados, por uno solo:\n",
        "i=0\n",
        "for elemento in estados_deterministicos_corregidos:\n",
        "  if elemento == 'ATENDIDO' or elemento == 'RESUELTO':\n",
        "    estados_deterministicos_corregidos[i]= 'SENTENCIADO'\n",
        "  i+=1\n",
        "\n",
        "i=0\n",
        "for elemento in estados_predichos:\n",
        "  if elemento == 'ATENDIDO' or elemento == 'RESUELTO':\n",
        "    estados_predichos[i]= 'SENTENCIADO'\n",
        "  i+=1"
      ]
    },
    {
      "cell_type": "code",
      "execution_count": null,
      "metadata": {
        "id": "obklcWFMaTs2"
      },
      "outputs": [],
      "source": [
        "#Calculamos la métrica de precisión.\n",
        "total_predicciones = len(lista_estados)\n",
        "predicciones_correctas = sum(1 for corr, pred in zip(estados_deterministicos_corregidos,estados_predichos) if corr == pred)\n",
        "precision = predicciones_correctas / total_predicciones\n",
        "\n",
        "# Imprimir la precisión\n",
        "print(f\"La precisión del modelo es: {precision:.2%}\")"
      ]
    },
    {
      "cell_type": "code",
      "execution_count": null,
      "metadata": {
        "id": "tHGwG-HQiVrm"
      },
      "outputs": [],
      "source": [
        "#En esta parte, calculamos datos más específicos del modelo que podrían ayudarnos a saber cuales son los puntos débiles y fuertes.\n",
        "estados_validos2= [\n",
        "    \"RECHAZADO\",\n",
        "    \"INADMISIBLE\",\n",
        "    \"EJECUCION\",\n",
        "    \"TRAMITE\",\n",
        "    \"PLAZO DE IMPUGNACION\",\n",
        "    \"CALIFICACION\",\n",
        "    \"ARCHIVO DEFINITIVO\",\n",
        "    \"ADMITIDO\",\n",
        "    \"SENTENCIADO\"\n",
        "]\n",
        "\n",
        "# Realizar el análisis para cada estado\n",
        "for estado in estados_validos2:\n",
        "    estados_correctos_count = estados_deterministicos_corregidos.count(estado)\n",
        "    estados_predichos_count = estados_predichos.count(estado)\n",
        "    estados_correctamente_predichos = sum(1 for predicho in estados_predichos if predicho == estado and predicho in estados_deterministicos_corregidos)\n",
        "    no_estados_correctamente_predichos = sum(1 for predicho in estados_predichos if predicho == estado and predicho not in estados_deterministicos_corregidos)\n",
        "    print(f\"Para {estado}:\")\n",
        "    print(f\"La red neuronal predijo correctamente {estados_correctamente_predichos} estados {estado} de un total de {estados_correctos_count}.\")\n",
        "    print(f\"Además, detectó como {estado} {no_estados_correctamente_predichos} casos que no lo eran.\")"
      ]
    },
    {
      "cell_type": "markdown",
      "metadata": {},
      "source": [
        "# Conclusiones"
      ]
    },
    {
      "cell_type": "markdown",
      "metadata": {},
      "source": [
        "- En cuanto a velocidad de procesamiento, la mejor forma de introducir la data es usando la función IA1, ya que esta solo hace uso del modelo  una sola vez por caso, mientras que el resto de funciones hacen uso del modelo una vez por documento.\n",
        "\n",
        "- Las funciones IA2 e IA3 empiezan con muy poca información (ya que empiezan leyendo un solo archivo de todo el caso), esto genera que al principio, sus respuestas sean que no se pudo determinar el estado o hacer un resumen adecuado, esto genera que para las siguientes iteraciones, el modelo tenga acceso a información contradictoria, lo que genera confusión y alucinaciones en algunos casos.\n",
        "\n",
        "- Los mejores prompts encontrados hasta ahora fueron: resumenPrompt= \"Eres un experto en Asesoría legal, el contexto proporcionado son documentos legales de los cuales harás un resumen detallando las personas implicadas, y que es lo que demanda o defiende cada uno.\"\n",
        "estadoPrompt= \"Eres un experto en Asesoría legal, el contexto proporcionado es una serie de documentos legales. Determina el estado del caso, asegúrate que tu respuesta sea única y exclusivamente el estado del caso. Es decir, tu respuesta debe limitarse a: RECHAZADO, INADMISIBLE, EJECUCION, TRAMITE, PLAZO DE IMPUGNACION, CALIFICACION, ARCHIVO DEFINITIVO, ADMITIDA, ATENDIDO, SENTENCIADO, RESUELTO \"\n",
        "\n",
        "- El uso del API del modelo GPT 3.5 de openAI fue un limitante, ya que este tiene un limite determinado de tokens y un numero determinado de usos por minuto, lo mejor hubiera sido poder alojar y ejecutar nuestro propio modelo LLM, lo cual no se pudo hacer en esta ocasión por falta de recursos computacionales.\n",
        "\n",
        "- Como se mencionó anteriormente, el limite de tokens entorpeció la tarea asignada, sin embargo existen técnicas como el split y overlapping que permiten disminuir las dificultades del límite de tokens. Estas técnicas están siendo estudiadas y se intentará incluirlas en los próximos entregables. "
      ]
    }
  ],
  "metadata": {
    "colab": {
      "collapsed_sections": [
        "QgvDDdrnvaGW",
        "c00QBWpiqCWP",
        "6PRlbGW-rlko",
        "gWsdiO4ysd4f",
        "gOxl7WRpttl7"
      ],
      "provenance": [],
      "toc_visible": true
    },
    "kernelspec": {
      "display_name": "Python 3",
      "name": "python3"
    },
    "language_info": {
      "codemirror_mode": {
        "name": "ipython",
        "version": 3
      },
      "file_extension": ".py",
      "mimetype": "text/x-python",
      "name": "python",
      "nbconvert_exporter": "python",
      "pygments_lexer": "ipython3",
      "version": "3.11.6"
    }
  },
  "nbformat": 4,
  "nbformat_minor": 0
}
